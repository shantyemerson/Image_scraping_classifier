{
 "cells": [
  {
   "cell_type": "markdown",
   "id": "2b687c0b",
   "metadata": {},
   "source": [
    "# IMAGE SCRAPING"
   ]
  },
  {
   "cell_type": "code",
   "execution_count": 28,
   "id": "05f3cc7c",
   "metadata": {},
   "outputs": [],
   "source": [
    "import pandas as pd\n",
    "import numpy as np\n",
    "import selenium\n",
    "from selenium import webdriver\n",
    "import shutil\n",
    "import requests\n",
    "from selenium.webdriver.chrome.options import Options\n",
    "import os\n",
    "import time\n",
    "from selenium.common.exceptions import NoSuchElementException"
   ]
  },
  {
   "cell_type": "code",
   "execution_count": 29,
   "id": "b93dfb72",
   "metadata": {},
   "outputs": [],
   "source": [
    "# Creating empty list to store labels \n",
    "labels = []\n",
    "# function to create a directory\n",
    "def directory(file):\n",
    "    img_dir = os.path.join(os.getcwd(), file)\n",
    "    if not os.path.exists(img_dir):\n",
    "        os.makedirs(img_dir)\n",
    "        \n",
    "    return file\n",
    "# Calling the above function\n",
    "folder = directory(\"Data\")"
   ]
  },
  {
   "cell_type": "code",
   "execution_count": 30,
   "id": "1a829249",
   "metadata": {},
   "outputs": [],
   "source": [
    "url=\"https://www.amazon.com/\""
   ]
  },
  {
   "cell_type": "code",
   "execution_count": 31,
   "id": "e9639f03",
   "metadata": {},
   "outputs": [],
   "source": [
    "# Function for scraping, downloading and storing the required images/data.\n",
    "def images(url, folder, labels, label,product):\n",
    "    # Opening drive \n",
    "    chrome_options = Options()\n",
    "    chrome_options.add_argument(\"--incognito\")\n",
    "    driver = webdriver.Chrome(r'chromedriver.exe', options=chrome_options)\n",
    "    web_url = driver.get(url)\n",
    "    \n",
    "    time.sleep(3)\n",
    "\n",
    "    # Locating the search bar\n",
    "    search_bar = driver.find_element_by_id(\"twotabsearchtextbox\")\n",
    "    print(\"Search Bar located\")\n",
    "    search_bar.clear()\n",
    "    print(\"search bar clear\")\n",
    "    category = product\n",
    "    search_bar.send_keys(category)\n",
    "\n",
    "    print(\"locating the button and clicking it to search the category\")\n",
    "    button = driver.find_element_by_id('nav-search-submit-button')\n",
    "    button.click()\n",
    "\n",
    "    time.sleep(3)\n",
    "    \n",
    "    # Creating empty list for  sotre data\n",
    "    image_urls = []\n",
    "    \n",
    "    # Loop for iterating the pages and thus scraping the images\n",
    "    for page in range(1, 6):\n",
    "        print('\\nPage', page)\n",
    "        \n",
    "        time.sleep(3)\n",
    "\n",
    "        # Giving path of the images to be scrapped\n",
    "        images = driver.find_elements_by_xpath(\"//img[@class = 's-image']\")\n",
    "\n",
    "        # Getting the source/link of the images.\n",
    "        for img in images:\n",
    "            source = img.get_attribute('src')\n",
    "            image_urls.append(source)\n",
    "    \n",
    "        # Downloading the images and saving the same in the respective directory.\n",
    "        for i, image_link in enumerate(image_urls):\n",
    "            response = requests.get(image_link)\n",
    "\n",
    "            # Downloading the images\n",
    "            image_name = folder + '/' + category + '_' + str(i+1) + '.jpg'\n",
    "            with open(image_name, 'wb') as file:\n",
    "                file.write(response.content)\n",
    "\n",
    "        time.sleep(3)\n",
    "        \n",
    "        print(\"Downloads of images from Page\", page, \"is completed! \\n\")\n",
    "        \n",
    "        time.sleep(3)\n",
    "        if len(image_urls)<=200:\n",
    "        # Moving to the next page.\n",
    "            next_page = driver.find_element_by_xpath(\"//li[@class = 'a-last']/a\")\n",
    "            next_page.click()\n",
    "        else:\n",
    "            break\n",
    "            \n",
    "        \n",
    "    print(\"Total images downlaoded of\", str(category), \": \", len(image_urls))\n",
    "    for i in image_urls:\n",
    "        labels.append(label)"
   ]
  },
  {
   "cell_type": "code",
   "execution_count": 32,
   "id": "fb18a9e0",
   "metadata": {},
   "outputs": [],
   "source": [
    "items=['jeans','Sarees','Trousers']"
   ]
  },
  {
   "cell_type": "code",
   "execution_count": 33,
   "id": "e28df202",
   "metadata": {},
   "outputs": [
    {
     "name": "stdout",
     "output_type": "stream",
     "text": [
      "Search Bar located\n",
      "search bar clear\n",
      "locating the button and clicking it to search the category\n",
      "\n",
      "Page 1\n",
      "Downloads of images from Page 1 is completed! \n",
      "\n",
      "\n",
      "Page 2\n",
      "Downloads of images from Page 2 is completed! \n",
      "\n",
      "\n",
      "Page 3\n",
      "Downloads of images from Page 3 is completed! \n",
      "\n",
      "\n",
      "Page 4\n",
      "Downloads of images from Page 4 is completed! \n",
      "\n",
      "Total images downlaoded of jeans :  237\n",
      "Search Bar located\n",
      "search bar clear\n",
      "locating the button and clicking it to search the category\n",
      "\n",
      "Page 1\n",
      "Downloads of images from Page 1 is completed! \n",
      "\n",
      "\n",
      "Page 2\n",
      "Downloads of images from Page 2 is completed! \n",
      "\n",
      "\n",
      "Page 3\n",
      "Downloads of images from Page 3 is completed! \n",
      "\n",
      "\n",
      "Page 4\n",
      "Downloads of images from Page 4 is completed! \n",
      "\n",
      "Total images downlaoded of Sarees :  229\n",
      "Search Bar located\n",
      "search bar clear\n",
      "locating the button and clicking it to search the category\n",
      "\n",
      "Page 1\n",
      "Downloads of images from Page 1 is completed! \n",
      "\n",
      "\n",
      "Page 2\n",
      "Downloads of images from Page 2 is completed! \n",
      "\n",
      "\n",
      "Page 3\n",
      "Downloads of images from Page 3 is completed! \n",
      "\n",
      "\n",
      "Page 4\n",
      "Downloads of images from Page 4 is completed! \n",
      "\n",
      "Total images downlaoded of Trousers :  241\n"
     ]
    }
   ],
   "source": [
    "for item in items:\n",
    "    if item=='jeans':\n",
    "        label= 0\n",
    "    elif item=='Sarees':\n",
    "         label= 1\n",
    "    else :\n",
    "         label= 2\n",
    "    images(url, folder, labels, label,item)"
   ]
  },
  {
   "cell_type": "code",
   "execution_count": 34,
   "id": "fa98a7ef",
   "metadata": {},
   "outputs": [
    {
     "data": {
      "text/plain": [
       "707"
      ]
     },
     "execution_count": 34,
     "metadata": {},
     "output_type": "execute_result"
    }
   ],
   "source": [
    "len(labels)"
   ]
  },
  {
   "cell_type": "code",
   "execution_count": 35,
   "id": "93dfec38",
   "metadata": {},
   "outputs": [],
   "source": [
    " #Converting the 'labels' list into dataframe.\n",
    "\n",
    "labels = pd.DataFrame(labels)\n",
    "labels\n",
    "#converting to csv\n",
    "labels.to_csv(\"Data.csv\", index = False)"
   ]
  }
 ],
 "metadata": {
  "kernelspec": {
   "display_name": "Python 3",
   "language": "python",
   "name": "python3"
  },
  "language_info": {
   "codemirror_mode": {
    "name": "ipython",
    "version": 3
   },
   "file_extension": ".py",
   "mimetype": "text/x-python",
   "name": "python",
   "nbconvert_exporter": "python",
   "pygments_lexer": "ipython3",
   "version": "3.8.8"
  }
 },
 "nbformat": 4,
 "nbformat_minor": 5
}
